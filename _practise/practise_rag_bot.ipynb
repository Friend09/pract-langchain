{
 "cells": [
  {
   "cell_type": "markdown",
   "metadata": {},
   "source": [
    "# Building RAG Chatbots with LangChain"
   ]
  },
  {
   "cell_type": "markdown",
   "metadata": {},
   "source": [
    "## SETUP"
   ]
  },
  {
   "cell_type": "code",
   "execution_count": 1,
   "metadata": {},
   "outputs": [],
   "source": [
    "import os\n",
    "from dotenv import load_dotenv, find_dotenv\n",
    "\n",
    "_ = load_dotenv(find_dotenv())\n",
    "\n",
    "OPENAI_API_KEY = os.getenv(\"OPENAI_API_KEY\")\n",
    "PINECONE_API_KEY = os.getenv(\"PINECONE_API_KEY\")"
   ]
  },
  {
   "cell_type": "markdown",
   "metadata": {},
   "source": [
    "## CHATBOT (NO RAG)"
   ]
  },
  {
   "cell_type": "code",
   "execution_count": 2,
   "metadata": {},
   "outputs": [],
   "source": [
    "import os\n",
    "from langchain_openai.chat_models import ChatOpenAI"
   ]
  },
  {
   "cell_type": "code",
   "execution_count": 3,
   "metadata": {},
   "outputs": [],
   "source": [
    "llm = ChatOpenAI(api_key=OPENAI_API_KEY, model=\"gpt-3.5-turbo\")"
   ]
  },
  {
   "cell_type": "code",
   "execution_count": 4,
   "metadata": {},
   "outputs": [],
   "source": [
    "from langchain.schema import SystemMessage, HumanMessage, AIMessage\n",
    "\n",
    "messages = [\n",
    "    SystemMessage(content=\"You are a helpful assistant.\"),\n",
    "    HumanMessage(\"Hi AI, how are you doint today?\"),\n",
    "    AIMessage(content=\"I'm great thank you. How can I help you?\"),\n",
    "    HumanMessage(content=\"I'd like to understand string theory\"),\n",
    "]"
   ]
  },
  {
   "cell_type": "code",
   "execution_count": 5,
   "metadata": {},
   "outputs": [
    {
     "data": {
      "text/plain": [
       "'String theory is a theoretical framework that seeks to unify the four fundamental forces of nature - gravity, electromagnetism, the weak nuclear force, and the strong nuclear force. It proposes that the most basic building blocks of the universe are not point-like particles, but rather tiny, vibrating strings. These strings can vibrate at different frequencies, giving rise to different particles and forces.\\n\\nOne of the key ideas in string theory is that the universe has more than the usual three spatial dimensions that we experience in everyday life. In fact, string theory requires at least 10 dimensions to be consistent. The extra dimensions are thought to be compactified, meaning they are curled up and not directly observable at our macroscopic scale.\\n\\nString theory has the potential to provide a unified description of all fundamental forces and particles in the universe, including gravity. However, it is still a work in progress and has not yet been experimentally confirmed. Researchers continue to explore and develop the theory to better understand the nature of our universe.'"
      ]
     },
     "execution_count": 5,
     "metadata": {},
     "output_type": "execute_result"
    }
   ],
   "source": [
    "res = llm.invoke(input=messages)\n",
    "res.content"
   ]
  },
  {
   "cell_type": "code",
   "execution_count": 6,
   "metadata": {},
   "outputs": [],
   "source": [
    "# add latest AI response\n",
    "messages.append(res)"
   ]
  },
  {
   "cell_type": "code",
   "execution_count": 7,
   "metadata": {},
   "outputs": [
    {
     "data": {
      "text/plain": [
       "[SystemMessage(content='You are a helpful assistant.'),\n",
       " HumanMessage(content='Hi AI, how are you doint today?'),\n",
       " AIMessage(content=\"I'm great thank you. How can I help you?\"),\n",
       " HumanMessage(content=\"I'd like to understand string theory\"),\n",
       " AIMessage(content='String theory is a theoretical framework that seeks to unify the four fundamental forces of nature - gravity, electromagnetism, the weak nuclear force, and the strong nuclear force. It proposes that the most basic building blocks of the universe are not point-like particles, but rather tiny, vibrating strings. These strings can vibrate at different frequencies, giving rise to different particles and forces.\\n\\nOne of the key ideas in string theory is that the universe has more than the usual three spatial dimensions that we experience in everyday life. In fact, string theory requires at least 10 dimensions to be consistent. The extra dimensions are thought to be compactified, meaning they are curled up and not directly observable at our macroscopic scale.\\n\\nString theory has the potential to provide a unified description of all fundamental forces and particles in the universe, including gravity. However, it is still a work in progress and has not yet been experimentally confirmed. Researchers continue to explore and develop the theory to better understand the nature of our universe.', response_metadata={'token_usage': {'completion_tokens': 200, 'prompt_tokens': 54, 'total_tokens': 254}, 'model_name': 'gpt-3.5-turbo', 'system_fingerprint': 'fp_c2295e73ad', 'finish_reason': 'stop', 'logprobs': None}, id='run-239a4225-dfb7-4cb0-a6a2-13c2765cb654-0')]"
      ]
     },
     "execution_count": 7,
     "metadata": {},
     "output_type": "execute_result"
    }
   ],
   "source": [
    "messages"
   ]
  },
  {
   "cell_type": "code",
   "execution_count": 8,
   "metadata": {},
   "outputs": [
    {
     "name": "stderr",
     "output_type": "stream",
     "text": [
      "/Users/vamsi_mbmax/Library/CloudStorage/OneDrive-Personal/01_vam_PROJECTS/LEARNING/proj_AI/dev_proj_AI/pract-langchain/.venv/lib/python3.12/site-packages/langchain_core/_api/deprecation.py:119: LangChainDeprecationWarning: The method `BaseChatModel.__call__` was deprecated in langchain-core 0.1.7 and will be removed in 0.2.0. Use invoke instead.\n",
      "  warn_deprecated(\n"
     ]
    }
   ],
   "source": [
    "# create a new user prompt\n",
    "prompt = HumanMessage(\n",
    "    content=\"Why do physicists believe it can produce a 'unified theory'? \"\n",
    ")\n",
    "\n",
    "messages.append(prompt)\n",
    "res = llm(messages)\n",
    "messages.append(res)"
   ]
  },
  {
   "cell_type": "code",
   "execution_count": 9,
   "metadata": {},
   "outputs": [
    {
     "data": {
      "text/plain": [
       "[SystemMessage(content='You are a helpful assistant.'),\n",
       " HumanMessage(content='Hi AI, how are you doint today?'),\n",
       " AIMessage(content=\"I'm great thank you. How can I help you?\"),\n",
       " HumanMessage(content=\"I'd like to understand string theory\"),\n",
       " AIMessage(content='String theory is a theoretical framework that seeks to unify the four fundamental forces of nature - gravity, electromagnetism, the weak nuclear force, and the strong nuclear force. It proposes that the most basic building blocks of the universe are not point-like particles, but rather tiny, vibrating strings. These strings can vibrate at different frequencies, giving rise to different particles and forces.\\n\\nOne of the key ideas in string theory is that the universe has more than the usual three spatial dimensions that we experience in everyday life. In fact, string theory requires at least 10 dimensions to be consistent. The extra dimensions are thought to be compactified, meaning they are curled up and not directly observable at our macroscopic scale.\\n\\nString theory has the potential to provide a unified description of all fundamental forces and particles in the universe, including gravity. However, it is still a work in progress and has not yet been experimentally confirmed. Researchers continue to explore and develop the theory to better understand the nature of our universe.', response_metadata={'token_usage': {'completion_tokens': 200, 'prompt_tokens': 54, 'total_tokens': 254}, 'model_name': 'gpt-3.5-turbo', 'system_fingerprint': 'fp_c2295e73ad', 'finish_reason': 'stop', 'logprobs': None}, id='run-239a4225-dfb7-4cb0-a6a2-13c2765cb654-0'),\n",
       " HumanMessage(content=\"Why do physicists believe it can produce a 'unified theory'? \"),\n",
       " AIMessage(content='Physicists believe that string theory has the potential to produce a unified theory because it provides a framework that can naturally incorporate all the fundamental forces of nature, including gravity, in a consistent manner. Here are some reasons why physicists are optimistic about the possibility of achieving a unified theory through string theory:\\n\\n1. **Incorporation of Gravity**: One of the key challenges in theoretical physics has been to reconcile quantum mechanics (which describes the behavior of particles on very small scales) with general relativity (which describes gravity on large scales). String theory naturally includes gravity as a fundamental force, and the interactions between strings can describe the gravitational force.\\n\\n2. **Consistency**: String theory provides a mathematically consistent framework that can potentially describe all fundamental particles and forces in the universe. By treating particles as different vibrational modes of strings, it offers a way to unify all the known particles and interactions in a single theoretical framework.\\n\\n3. **Extra Dimensions**: String theory requires extra dimensions beyond the familiar three spatial dimensions and one time dimension. These extra dimensions can help explain some of the mysteries in particle physics and cosmology, such as the hierarchy problem and the nature of dark matter and dark energy.\\n\\n4. **Unification of Forces**: String theory can potentially unify the electromagnetic, weak nuclear, and strong nuclear forces with gravity into a single, coherent framework. This grand unification of forces has been a long-standing goal in theoretical physics.\\n\\nWhile string theory has not yet been experimentally confirmed and many challenges remain, physicists are drawn to its potential for providing a unified description of the fundamental forces and particles in the universe. Ongoing research continues to explore the implications of string theory and its potential to revolutionize our understanding of the cosmos.', response_metadata={'token_usage': {'completion_tokens': 346, 'prompt_tokens': 276, 'total_tokens': 622}, 'model_name': 'gpt-3.5-turbo', 'system_fingerprint': 'fp_c2295e73ad', 'finish_reason': 'stop', 'logprobs': None}, id='run-ffc2f72e-2d79-4275-8482-5db880da26e5-0')]"
      ]
     },
     "execution_count": 9,
     "metadata": {},
     "output_type": "execute_result"
    }
   ],
   "source": [
    "messages"
   ]
  },
  {
   "cell_type": "markdown",
   "metadata": {},
   "source": [
    "## DEALING W/ HALLUCINATIONS"
   ]
  },
  {
   "cell_type": "code",
   "execution_count": 10,
   "metadata": {},
   "outputs": [
    {
     "data": {
      "text/plain": [
       "'I\\'m not aware of any specific significance or special characteristics associated with \"Llama 3.\" It\\'s possible that it could be a reference to something specific in a particular context, such as a scientific study, a product name, a code name, or even a fictional character. If you provide more context or information, I may be able to help you further.'"
      ]
     },
     "execution_count": 10,
     "metadata": {},
     "output_type": "execute_result"
    }
   ],
   "source": [
    "# create a new user prompt\n",
    "prompt = HumanMessage(content=\"What is so special about Llama 3?\")\n",
    "messages.append(prompt)\n",
    "\n",
    "res = llm(messages)\n",
    "res.content"
   ]
  },
  {
   "cell_type": "code",
   "execution_count": 11,
   "metadata": {},
   "outputs": [
    {
     "data": {
      "text/plain": [
       "'I\\'m sorry, but it seems there might be a misunderstanding or confusion with the terms you mentioned. As of my current knowledge, there is no widely recognized concept or technology known as \"LLMChain\" in the context of LangChain or any other related field. If you can provide more details or clarify the context, I would be happy to try to assist you further.'"
      ]
     },
     "execution_count": 11,
     "metadata": {},
     "output_type": "execute_result"
    }
   ],
   "source": [
    "# add latest AI response to messages\n",
    "messages.append(res)\n",
    "\n",
    "# now create a new user prompt\n",
    "prompt = HumanMessage(content=\"Can you tell me about the LLMChain in LangChain?\")\n",
    "# add to messages\n",
    "messages.append(prompt)\n",
    "\n",
    "# send to OpenAI\n",
    "res = llm(messages)\n",
    "res.content"
   ]
  },
  {
   "cell_type": "code",
   "execution_count": 12,
   "metadata": {},
   "outputs": [],
   "source": [
    "llmchain_information = [\n",
    "    \"A LLMChain is the most common type of chain. It consists of a PromptTemplate, a model (either an LLM or a ChatModel), and an optional output parser. This chain takes multiple input variables, uses the PromptTemplate to format them into a prompt. It then passes that to the model. Finally, it uses the OutputParser (if provided) to parse the output of the LLM into a final format.\",\n",
    "    \"Chains is an incredibly generic concept which returns to a sequence of modular components (or other chains) combined in a particular way to accomplish a common use case.\",\n",
    "    \"LangChain is a framework for developing applications powered by language models. We believe that the most powerful and differentiated applications will not only call out to a language model via an api, but will also: (1) Be data-aware: connect a language model to other sources of data, (2) Be agentic: Allow a language model to interact with its environment. As such, the LangChain framework is designed with the objective in mind to enable those types of applications.\",\n",
    "]\n",
    "\n",
    "source_knowledge = \"\\n\".join(llmchain_information)"
   ]
  },
  {
   "cell_type": "code",
   "execution_count": 13,
   "metadata": {},
   "outputs": [],
   "source": [
    "query = \"Can you tell me about the LLMChain in LangChain?\"\n",
    "\n",
    "augmented_prompt = f\"\"\"Using the contexts below, answer the query.\n",
    "\n",
    "Contexts:\n",
    "{source_knowledge}\n",
    "\n",
    "Query: {query}\"\"\""
   ]
  },
  {
   "cell_type": "code",
   "execution_count": 16,
   "metadata": {},
   "outputs": [
    {
     "name": "stdout",
     "output_type": "stream",
     "text": [
      "The LLMChain, within the LangChain framework, is a common type of chain that plays a crucial role in connecting various components to utilize language models effectively. Here are the key points about the LLMChain within the LangChain context:\n",
      "\n",
      "1. **Components**: The LLMChain consists of the following components:\n",
      "   - **PromptTemplate**: A template used to format multiple input variables into a prompt for the language model.\n",
      "   - **Model**: The model used in the chain can be either a Large Language Model (LLM) or a ChatModel.\n",
      "   - **Optional Output Parser**: An optional component that parses the output of the language model into a final format.\n",
      "\n",
      "2. **Functionality**: The LLMChain takes multiple input variables, formats them using the PromptTemplate, and passes them to the model for processing. The model generates an output based on the input prompt, and if provided, the Output Parser can further process the model's output into a desired format.\n",
      "\n",
      "3. **Purpose**: The LLMChain is designed as a foundational element within the LangChain framework, which aims to enable the development of applications powered by language models. LangChain emphasizes the importance of creating data-aware and agentic applications that not only interact with language models via APIs but also connect to other data sources and allow language models to interact with their environment.\n",
      "\n",
      "In summary, the LLMChain in LangChain serves as a key component that facilitates the integration of language models into applications, enabling them to leverage the power of language processing while being adaptable to various input formats and output requirements.\n"
     ]
    }
   ],
   "source": [
    "prompt = HumanMessage(content=augmented_prompt)\n",
    "messages.append(prompt)\n",
    "\n",
    "res = llm(messages)\n",
    "print(res.content)"
   ]
  },
  {
   "cell_type": "markdown",
   "metadata": {},
   "source": [
    "## IMPORTING THE DATA"
   ]
  },
  {
   "cell_type": "code",
   "execution_count": 2,
   "metadata": {},
   "outputs": [
    {
     "name": "stderr",
     "output_type": "stream",
     "text": [
      "/Users/vamsi_mbmax/Library/CloudStorage/OneDrive-Personal/01_vam_PROJECTS/LEARNING/proj_AI/dev_proj_AI/pract-langchain/.venv/lib/python3.12/site-packages/tqdm/auto.py:21: TqdmWarning: IProgress not found. Please update jupyter and ipywidgets. See https://ipywidgets.readthedocs.io/en/stable/user_install.html\n",
      "  from .autonotebook import tqdm as notebook_tqdm\n"
     ]
    },
    {
     "data": {
      "text/plain": [
       "Dataset({\n",
       "    features: ['doi', 'chunk-id', 'chunk', 'id', 'title', 'summary', 'source', 'authors', 'categories', 'comment', 'journal_ref', 'primary_category', 'published', 'updated', 'references'],\n",
       "    num_rows: 4838\n",
       "})"
      ]
     },
     "execution_count": 2,
     "metadata": {},
     "output_type": "execute_result"
    }
   ],
   "source": [
    "from datasets import load_dataset\n",
    "\n",
    "dataset = load_dataset(\n",
    "    \"jamescalam/llama-2-arxiv-papers-chunked\",\n",
    "    split=\"train\",\n",
    ")\n",
    "\n",
    "dataset"
   ]
  },
  {
   "cell_type": "code",
   "execution_count": 3,
   "metadata": {},
   "outputs": [
    {
     "data": {
      "text/plain": [
       "{'doi': '1102.0183',\n",
       " 'chunk-id': '0',\n",
       " 'chunk': 'High-Performance Neural Networks\\nfor Visual Object Classi\\x0ccation\\nDan C. Cire\\x18 san, Ueli Meier, Jonathan Masci,\\nLuca M. Gambardella and J\\x7f urgen Schmidhuber\\nTechnical Report No. IDSIA-01-11\\nJanuary 2011\\nIDSIA / USI-SUPSI\\nDalle Molle Institute for Arti\\x0ccial Intelligence\\nGalleria 2, 6928 Manno, Switzerland\\nIDSIA is a joint institute of both University of Lugano (USI) and University of Applied Sciences of Southern Switzerland (SUPSI),\\nand was founded in 1988 by the Dalle Molle Foundation which promoted quality of life.\\nThis work was partially supported by the Swiss Commission for Technology and Innovation (CTI), Project n. 9688.1 IFF:\\nIntelligent Fill in Form.arXiv:1102.0183v1  [cs.AI]  1 Feb 2011\\nTechnical Report No. IDSIA-01-11 1\\nHigh-Performance Neural Networks\\nfor Visual Object Classi\\x0ccation\\nDan C. Cire\\x18 san, Ueli Meier, Jonathan Masci,\\nLuca M. Gambardella and J\\x7f urgen Schmidhuber\\nJanuary 2011\\nAbstract\\nWe present a fast, fully parameterizable GPU implementation of Convolutional Neural\\nNetwork variants. Our feature extractors are neither carefully designed nor pre-wired, but',\n",
       " 'id': '1102.0183',\n",
       " 'title': 'High-Performance Neural Networks for Visual Object Classification',\n",
       " 'summary': 'We present a fast, fully parameterizable GPU implementation of Convolutional\\nNeural Network variants. Our feature extractors are neither carefully designed\\nnor pre-wired, but rather learned in a supervised way. Our deep hierarchical\\narchitectures achieve the best published results on benchmarks for object\\nclassification (NORB, CIFAR10) and handwritten digit recognition (MNIST), with\\nerror rates of 2.53%, 19.51%, 0.35%, respectively. Deep nets trained by simple\\nback-propagation perform better than more shallow ones. Learning is\\nsurprisingly rapid. NORB is completely trained within five epochs. Test error\\nrates on MNIST drop to 2.42%, 0.97% and 0.48% after 1, 3 and 17 epochs,\\nrespectively.',\n",
       " 'source': 'http://arxiv.org/pdf/1102.0183',\n",
       " 'authors': ['Dan C. Cireşan',\n",
       "  'Ueli Meier',\n",
       "  'Jonathan Masci',\n",
       "  'Luca M. Gambardella',\n",
       "  'Jürgen Schmidhuber'],\n",
       " 'categories': ['cs.AI', 'cs.NE'],\n",
       " 'comment': '12 pages, 2 figures, 5 tables',\n",
       " 'journal_ref': None,\n",
       " 'primary_category': 'cs.AI',\n",
       " 'published': '20110201',\n",
       " 'updated': '20110201',\n",
       " 'references': []}"
      ]
     },
     "execution_count": 3,
     "metadata": {},
     "output_type": "execute_result"
    }
   ],
   "source": [
    "dataset[0]"
   ]
  },
  {
   "cell_type": "markdown",
   "metadata": {},
   "source": [
    "## BUILD THE KNOWLEDGEBASE"
   ]
  },
  {
   "cell_type": "code",
   "execution_count": 4,
   "metadata": {},
   "outputs": [],
   "source": [
    "from pinecone import Pinecone\n",
    "\n",
    "pc = Pinecone(api_key=PINECONE_API_KEY)"
   ]
  },
  {
   "cell_type": "code",
   "execution_count": 5,
   "metadata": {},
   "outputs": [
    {
     "data": {
      "text/plain": [
       "ServerlessSpec(cloud='aws', region='us-east-1')"
      ]
     },
     "execution_count": 5,
     "metadata": {},
     "output_type": "execute_result"
    }
   ],
   "source": [
    "from pinecone import ServerlessSpec\n",
    "\n",
    "spec = ServerlessSpec(\n",
    "    cloud=\"aws\",\n",
    "    region=\"us-east-1\",\n",
    ")\n",
    "\n",
    "spec"
   ]
  },
  {
   "cell_type": "code",
   "execution_count": 8,
   "metadata": {},
   "outputs": [
    {
     "data": {
      "text/plain": [
       "{'dimension': 1536,\n",
       " 'index_fullness': 0.0,\n",
       " 'namespaces': {},\n",
       " 'total_vector_count': 0}"
      ]
     },
     "execution_count": 8,
     "metadata": {},
     "output_type": "execute_result"
    }
   ],
   "source": [
    "import time\n",
    "\n",
    "index_name = \"llama-3-rag\"\n",
    "existing_indexes = [index_info[\"name\"] for index_info in pc.list_indexes()]\n",
    "\n",
    "# check if index already exists (it shouldn't if this is first time)\n",
    "if index_name not in existing_indexes:\n",
    "    # if does not exist, create index\n",
    "    pc.create_index(\n",
    "        index_name,\n",
    "        dimension=1536,  # dimensionality of ada 002\n",
    "        metric=\"dotproduct\",\n",
    "        spec=spec,\n",
    "    )\n",
    "    # wait for index to be initialized\n",
    "    while not pc.describe_index(index_name).status[\"ready\"]:\n",
    "        time.sleep(1)\n",
    "\n",
    "# connect to index\n",
    "index = pc.Index(index_name)\n",
    "time.sleep(1)\n",
    "# view index stats\n",
    "index.describe_index_stats()"
   ]
  },
  {
   "cell_type": "code",
   "execution_count": null,
   "metadata": {},
   "outputs": [],
   "source": []
  },
  {
   "cell_type": "code",
   "execution_count": null,
   "metadata": {},
   "outputs": [],
   "source": []
  }
 ],
 "metadata": {
  "kernelspec": {
   "display_name": ".venv",
   "language": "python",
   "name": "python3"
  },
  "language_info": {
   "codemirror_mode": {
    "name": "ipython",
    "version": 3
   },
   "file_extension": ".py",
   "mimetype": "text/x-python",
   "name": "python",
   "nbconvert_exporter": "python",
   "pygments_lexer": "ipython3",
   "version": "3.12.2"
  }
 },
 "nbformat": 4,
 "nbformat_minor": 2
}
