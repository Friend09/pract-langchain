{
 "cells": [
  {
   "cell_type": "markdown",
   "metadata": {},
   "source": [
    "# KOR practise\n"
   ]
  },
  {
   "cell_type": "markdown",
   "metadata": {},
   "source": [
    "## SETUP\n"
   ]
  },
  {
   "cell_type": "markdown",
   "metadata": {},
   "source": [
    "- https://github.com/gkamradt/langchain-tutorials/blob/main/data_generation/Expert%20Structured%20Output%20(Using%20Kor).ipynb -> greg notebook\n",
    "- https://github.com/eyurtsev/kor -> github repo for KOR\n",
    "- https://eyurtsev.github.io/kor/tutorial.html -> KOR documentation\n",
    "- https://www.youtube.com/watch?v=xZzvwR9jdPA -> video as how KOR is used by Greg on youtube\n"
   ]
  },
  {
   "cell_type": "code",
   "execution_count": 35,
   "metadata": {},
   "outputs": [],
   "source": [
    "# kor\n",
    "from kor.extraction import create_extraction_chain\n",
    "from kor.nodes import Object, Text, Number\n",
    "\n",
    "# langchain\n",
    "from langchain_openai import ChatOpenAI\n",
    "from langchain.llms import OpenLM\n",
    "\n",
    "# standard helpers\n",
    "import pandas as pd\n",
    "import requests\n",
    "import time\n",
    "import json\n",
    "from datetime import datetime\n",
    "\n",
    "# text helpers\n",
    "from bs4 import BeautifulSoup\n",
    "from markdownify import markdownify as md\n",
    "\n",
    "# for token counting\n",
    "from langchain.callbacks import get_openai_callback"
   ]
  },
  {
   "cell_type": "code",
   "execution_count": 36,
   "metadata": {},
   "outputs": [],
   "source": [
    "def printOutput(output):\n",
    "    print(json.dumps(output, sort_keys=True, indent=3))"
   ]
  },
  {
   "cell_type": "code",
   "execution_count": 37,
   "metadata": {},
   "outputs": [
    {
     "data": {
      "text/plain": [
       "ChatOpenAI(client=<openai.resources.chat.completions.Completions object at 0x11fd14530>, async_client=<openai.resources.chat.completions.AsyncCompletions object at 0x11fd18da0>, temperature=0.0, openai_api_key=SecretStr('**********'), openai_proxy='', max_tokens=2000)"
      ]
     },
     "execution_count": 37,
     "metadata": {},
     "output_type": "execute_result"
    }
   ],
   "source": [
    "# get openai api key\n",
    "from dotenv import find_dotenv, load_dotenv\n",
    "import os\n",
    "\n",
    "_ = load_dotenv(find_dotenv())\n",
    "OPENAI_API_KEY = os.getenv(\"OPENAI_API_KEY\")\n",
    "# OPENAI_API_KEY\n",
    "\n",
    "# llm\n",
    "llm = ChatOpenAI(\n",
    "    model_name=\"gpt-3.5-turbo\",\n",
    "    # model_name=\"gpt-4\",\n",
    "    temperature=0,\n",
    "    max_tokens=2000,\n",
    "    openai_api_key=OPENAI_API_KEY,\n",
    ")\n",
    "\n",
    "llm"
   ]
  },
  {
   "cell_type": "markdown",
   "metadata": {},
   "source": [
    "## KOR - HELLO WORLD\n"
   ]
  },
  {
   "cell_type": "code",
   "execution_count": 38,
   "metadata": {},
   "outputs": [],
   "source": [
    "# create an object that holds the info about the fields we need to extract\n",
    "person_schema = Object(\n",
    "    id=\"person\",  # this is the parent in the output\n",
    "    # describe about this object\n",
    "    description=\"Personal information about a person\",\n",
    "    # what fields to capture from the text\n",
    "    attributes=[\n",
    "        Text(id=\"first-name\", description=\"The first name of a person.\")  # key\n",
    "    ],\n",
    "    # some examples what we need\n",
    "    examples=[\n",
    "        (\"Alice and Bob are friends\", [\n",
    "         {\"first_name\": \"Alice\"}, {\"first_name\": \"Bob\"}])\n",
    "    ],\n",
    "    many=True,\n",
    ")"
   ]
  },
  {
   "cell_type": "code",
   "execution_count": 39,
   "metadata": {},
   "outputs": [
    {
     "data": {
      "text/plain": [
       "LLMChain(prompt=ExtractionPromptTemplate(input_variables=['text'], output_parser=KorParser(encoder=<kor.encoders.csv_data.CSVEncoder object at 0x11e9ae570>, schema_=Object(id='person', description='Personal information about a person', many=True, attributes=[Text(id='first-name', description='The first name of a person.', many=False, examples=())], examples=[('Alice and Bob are friends', [{'first_name': 'Alice'}, {'first_name': 'Bob'}])])), encoder=<kor.encoders.csv_data.CSVEncoder object at 0x11e9ae570>, node=Object(id='person', description='Personal information about a person', many=True, attributes=[Text(id='first-name', description='The first name of a person.', many=False, examples=())], examples=[('Alice and Bob are friends', [{'first_name': 'Alice'}, {'first_name': 'Bob'}])]), type_descriptor=<kor.type_descriptors.TypeScriptDescriptor object at 0x11f3ff2f0>, instruction_template=PromptTemplate(input_variables=['format_instructions', 'type_description'], template=\"Your goal is to extract structured information from the user's input that matches the form described below. When extracting information please make sure it matches the type information exactly. Do not add any attributes that do not appear in the schema shown below.\\n\\n{type_description}\\n\\n{format_instructions}\\n\\n\")), llm=ChatOpenAI(client=<openai.resources.chat.completions.Completions object at 0x11fd14530>, async_client=<openai.resources.chat.completions.AsyncCompletions object at 0x11fd18da0>, temperature=0.0, openai_api_key=SecretStr('**********'), openai_proxy='', max_tokens=2000), output_parser=KorParser(encoder=<kor.encoders.csv_data.CSVEncoder object at 0x11e9ae570>, schema_=Object(id='person', description='Personal information about a person', many=True, attributes=[Text(id='first-name', description='The first name of a person.', many=False, examples=())], examples=[('Alice and Bob are friends', [{'first_name': 'Alice'}, {'first_name': 'Bob'}])])))"
      ]
     },
     "execution_count": 39,
     "metadata": {},
     "output_type": "execute_result"
    }
   ],
   "source": [
    "# create a chain to extract information\n",
    "chain = create_extraction_chain(llm, person_schema)\n",
    "chain"
   ]
  },
  {
   "cell_type": "code",
   "execution_count": 40,
   "metadata": {},
   "outputs": [
    {
     "data": {
      "text/plain": [
       "\"\\n    My name is Bobby.\\n    My sister's name is Rachel.\\n    My brother's name Joe. My dog's name is Spot\\n\""
      ]
     },
     "execution_count": 40,
     "metadata": {},
     "output_type": "execute_result"
    }
   ],
   "source": [
    "# text to extract the info from\n",
    "text = \"\"\"\n",
    "    My name is Bobby.\n",
    "    My sister's name is Rachel.\n",
    "    My brother's name Joe. My dog's name is Spot\n",
    "\"\"\"\n",
    "\n",
    "text"
   ]
  },
  {
   "cell_type": "code",
   "execution_count": 43,
   "metadata": {},
   "outputs": [
    {
     "name": "stdout",
     "output_type": "stream",
     "text": [
      "{\n",
      "   \"person\": [\n",
      "      {\n",
      "         \"first-name\": \"Bobby\"\n",
      "      },\n",
      "      {\n",
      "         \"first-name\": \"Rachel\"\n",
      "      },\n",
      "      {\n",
      "         \"first-name\": \"Joe\"\n",
      "      }\n",
      "   ]\n",
      "}\n"
     ]
    }
   ],
   "source": [
    "output = chain.run(text=(text))[\"data\"]\n",
    "printOutput(output)\n",
    "# output"
   ]
  },
  {
   "cell_type": "code",
   "execution_count": 46,
   "metadata": {},
   "outputs": [
    {
     "data": {
      "text/plain": [
       "{'person': [{'first-name': ''}]}"
      ]
     },
     "execution_count": 46,
     "metadata": {},
     "output_type": "execute_result"
    }
   ],
   "source": [
    "output = chain.run(text=(\"The dog went to the park\"))[\"data\"]\n",
    "output"
   ]
  },
  {
   "cell_type": "markdown",
   "metadata": {},
   "source": [
    "## MULTIPLE FIELDS\n"
   ]
  },
  {
   "cell_type": "code",
   "execution_count": 47,
   "metadata": {},
   "outputs": [],
   "source": [
    "# define schema\n",
    "plant_schema = Object(\n",
    "    id=\"plant\",\n",
    "    description=\"Information about a plant\",\n",
    "    attributes=[\n",
    "        Text(\n",
    "            id=\"plant_type\",\n",
    "            description=\"The common name of the plant\"\n",
    "        ),\n",
    "        Text(\n",
    "            id=\"color\",\n",
    "            description=\"The color of plant\"\n",
    "        ),\n",
    "        Number(\n",
    "            id=\"rating\",\n",
    "            description=\"The rating of the plant\"\n",
    "        ),\n",
    "    ],\n",
    "    examples=[\n",
    "        (\n",
    "            \"Roses are red, lilies are white and an 8 out of 10.\",\n",
    "            [\n",
    "                {\"plant_type\": \"Roses\", \"color\": \"red\"},\n",
    "                {\"plant_type\": \"Lily\", \"color\": \"white\", \"rating\": 8}\n",
    "            ]\n",
    "        )\n",
    "    ],\n",
    ")"
   ]
  },
  {
   "cell_type": "code",
   "execution_count": 49,
   "metadata": {},
   "outputs": [
    {
     "data": {
      "text/plain": [
       "Object(id='plant', description='Information about a plant', many=False, attributes=[Text(id='plant_type', description='The common name of the plant', many=False, examples=()), Text(id='color', description='The color of plant', many=False, examples=()), Number(id='rating', description='The rating of the plant', many=False, examples=())], examples=[('Roses are red, lilies are white and an 8 out of 10.', [{'plant_type': 'Roses', 'color': 'red'}, {'plant_type': 'Lily', 'color': 'white', 'rating': 8}])])"
      ]
     },
     "execution_count": 49,
     "metadata": {},
     "output_type": "execute_result"
    }
   ],
   "source": [
    "plant_schema"
   ]
  },
  {
   "cell_type": "code",
   "execution_count": 51,
   "metadata": {},
   "outputs": [],
   "source": [
    "text = \"Palm trees are brown with a 6 rating. Sequoia trees are green\"\n",
    "chain = create_extraction_chain(llm, plant_schema)"
   ]
  },
  {
   "cell_type": "code",
   "execution_count": 52,
   "metadata": {},
   "outputs": [
    {
     "name": "stdout",
     "output_type": "stream",
     "text": [
      "{\n",
      "   \"plant\": [\n",
      "      {\n",
      "         \"color\": \"brown\",\n",
      "         \"plant_type\": \"Palm trees\",\n",
      "         \"rating\": \"6.0\"\n",
      "      },\n",
      "      {\n",
      "         \"color\": \"green\",\n",
      "         \"plant_type\": \"Sequoia trees\",\n",
      "         \"rating\": \"\"\n",
      "      }\n",
      "   ]\n",
      "}\n"
     ]
    }
   ],
   "source": [
    "output = chain.run(text=text)[\"data\"]\n",
    "printOutput(output)"
   ]
  },
  {
   "cell_type": "markdown",
   "metadata": {},
   "source": [
    "## WORKING WITH LISTS"
   ]
  },
  {
   "cell_type": "code",
   "execution_count": null,
   "metadata": {},
   "outputs": [],
   "source": []
  }
 ],
 "metadata": {
  "kernelspec": {
   "display_name": ".venv",
   "language": "python",
   "name": "python3"
  },
  "language_info": {
   "codemirror_mode": {
    "name": "ipython",
    "version": 3
   },
   "file_extension": ".py",
   "mimetype": "text/x-python",
   "name": "python",
   "nbconvert_exporter": "python",
   "pygments_lexer": "ipython3",
   "version": "3.12.2"
  }
 },
 "nbformat": 4,
 "nbformat_minor": 2
}
