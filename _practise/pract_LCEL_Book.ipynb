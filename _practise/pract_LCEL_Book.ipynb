{
 "cells": [
  {
   "cell_type": "markdown",
   "metadata": {},
   "source": [
    "# LCEL\n",
    "\n",
    "https://python.langchain.com/docs/expression_language/"
   ]
  },
  {
   "cell_type": "code",
   "execution_count": 9,
   "metadata": {},
   "outputs": [],
   "source": [
    "# get api key\n",
    "import os\n",
    "from dotenv import load_dotenv, find_dotenv\n",
    "\n",
    "_ = load_dotenv(find_dotenv())\n",
    "\n",
    "OPENAI_API_KEY = os.getenv(\"OPENAI_API_KEY\")\n",
    "os.environ[\"OPENAI_API_KEY\"] = OPENAI_API_KEY"
   ]
  },
  {
   "cell_type": "markdown",
   "metadata": {},
   "source": [
    "## Chapter 7: OutputParsers and Memory"
   ]
  },
  {
   "cell_type": "markdown",
   "metadata": {},
   "source": [
    "## 7.1 Parsers"
   ]
  },
  {
   "cell_type": "code",
   "execution_count": 2,
   "metadata": {},
   "outputs": [
    {
     "name": "stdout",
     "output_type": "stream",
     "text": [
      "['1. Swiftphone\\n2. NexGen Mobile\\n3. OnTheGo Tech\\n4. PocketTech\\n5. Infinity Mobile\\n6. SmartLink\\n7. MobileMate\\n8. GoMobile\\n9. iConnect\\n10. Skyphone\\n11. TechTrail\\n12. MobileWave\\n13. NetEdge Mobile\\n14. ReachOut Tech\\n15. MobileFusion\\n16. NextMobile\\n17. UpLink Tech\\n18. MobileSphere\\n19. BoostTech\\n20. CellSpark']\n"
     ]
    }
   ],
   "source": [
    "# 7.1.1\n",
    "from langchain.output_parsers import CommaSeparatedListOutputParser\n",
    "from langchain.prompts import PromptTemplate\n",
    "from langchain_openai.llms import OpenAI\n",
    "\n",
    "output_parser = CommaSeparatedListOutputParser()\n",
    "format_instructions = output_parser.get_format_instructions()\n",
    "\n",
    "prompt_template = \"\"\"\n",
    "Suggest some names for my {subject} startup. \\n\n",
    "{format_instructions}\n",
    "\"\"\"\n",
    "\n",
    "prompt = PromptTemplate.from_template(prompt_template)\n",
    "\n",
    "llm = OpenAI()\n",
    "\n",
    "chain = prompt | llm | output_parser\n",
    "\n",
    "print(\n",
    "    chain.invoke(\n",
    "        {\n",
    "            \"format_instructions\": format_instructions,\n",
    "            \"subject\": \"Mobile\",\n",
    "        }\n",
    "    )\n",
    ")"
   ]
  },
  {
   "cell_type": "code",
   "execution_count": 32,
   "metadata": {},
   "outputs": [
    {
     "name": "stdout",
     "output_type": "stream",
     "text": [
      "The output should be a markdown code snippet formatted in the following schema, including the leading and trailing \"```json\" and \"```\":\n",
      "\n",
      "```json\n",
      "{\n",
      "\t\"Monument\": string  // The monument mentioned in the answer.\n",
      "\t\"city\": string  // the city in which this monument is present.\n",
      "\t\"architect\": string  // the architect of the monument.\n",
      "}\n",
      "```\n"
     ]
    }
   ],
   "source": [
    "# 7.1.2 Custom OutputParser\n",
    "from langchain.output_parsers import StructuredOutputParser, ResponseSchema\n",
    "from langchain.prompts import PromptTemplate\n",
    "from langchain_openai.llms import OpenAI\n",
    "from langchain.output_parsers import OutputFixingParser\n",
    "from operator import itemgetter\n",
    "from langchain.schema.runnable import RunnablePassthrough\n",
    "\n",
    "response_schemas = [\n",
    "    ResponseSchema(\n",
    "        name=\"Monument\",\n",
    "        description=\"The monument mentioned in the answer.\",\n",
    "    ),\n",
    "    ResponseSchema(\n",
    "        name=\"city\", description=\"the city in which this monument is present.\"\n",
    "    ),\n",
    "    ResponseSchema(\n",
    "        name=\"architect\",\n",
    "        description=\"the architect of the monument.\",\n",
    "    ),\n",
    "]\n",
    "\n",
    "output_parser = StructuredOutputParser.from_response_schemas(response_schemas)\n",
    "format_instructions = output_parser.get_format_instructions()\n",
    "print(format_instructions)"
   ]
  },
  {
   "cell_type": "code",
   "execution_count": 39,
   "metadata": {},
   "outputs": [
    {
     "name": "stdout",
     "output_type": "stream",
     "text": [
      "{'Monument': 'Taj Mahal', 'city': 'Agra', 'architect': 'Ustad Ahmad Lahauri'}\n"
     ]
    }
   ],
   "source": [
    "prompt_template = \"\"\"\n",
    "    answer the users question as best as possible. \\n\n",
    "    {format_instructions}\\n {question}\n",
    "\"\"\"\n",
    "\n",
    "prompt = PromptTemplate.from_template(prompt_template)\n",
    "\n",
    "llm = OpenAI()\n",
    "\n",
    "chain = prompt | llm | output_parser\n",
    "\n",
    "print(\n",
    "    chain.invoke(\n",
    "        {\n",
    "            \"format_instructions\": format_instructions,\n",
    "            \"question\": \"Choose a random Indian state and pen down some cities\",\n",
    "        }\n",
    "    )\n",
    ")"
   ]
  },
  {
   "cell_type": "code",
   "execution_count": 11,
   "metadata": {},
   "outputs": [
    {
     "data": {
      "text/plain": [
       "State(state='Andhra Pradesh', cities=['Visakhapatnam', 'Vijayawada', 'Guntur', 'Nellore', 'Kurnool', 'Rajahmundry', 'Kakinada', 'Tirupati', 'Anantapur', 'Kadapa'])"
      ]
     },
     "execution_count": 11,
     "metadata": {},
     "output_type": "execute_result"
    }
   ],
   "source": [
    "# 7.13\n",
    "\n",
    "from langchain.output_parsers import PydanticOutputParser\n",
    "from langchain.pydantic_v1 import BaseModel, Field\n",
    "from langchain_core.prompts import PromptTemplate\n",
    "from typing import List\n",
    "from langchain_openai import OpenAI\n",
    "\n",
    "\n",
    "class State(BaseModel):\n",
    "    state: str = Field(description=\"name of an Indian State\")\n",
    "    cities: List[str] = Field(description=\"Indian cities in that state\")\n",
    "\n",
    "\n",
    "parser = PydanticOutputParser(pydantic_object=State)\n",
    "\n",
    "format_instructions = parser.get_format_instructions()\n",
    "\n",
    "template = \"\"\"answer the users question as best as possible and generate output. \\n\n",
    "{format_instructions} \\n{questions}\n",
    "\"\"\"\n",
    "\n",
    "prompt = PromptTemplate.from_template(template)\n",
    "llm = OpenAI(temperature=0, api_key=OPENAI_API_KEY)\n",
    "chain = prompt | llm | parser\n",
    "\n",
    "chain.invoke(\n",
    "    {\n",
    "        \"questions\": \"State is Andhra Pradesh\",\n",
    "        \"format_instructions\": format_instructions,\n",
    "    }\n",
    ")"
   ]
  },
  {
   "cell_type": "markdown",
   "metadata": {},
   "source": [
    "## 7.2 Memory"
   ]
  },
  {
   "cell_type": "code",
   "execution_count": 12,
   "metadata": {},
   "outputs": [],
   "source": [
    "# coversational buffer memory\n",
    "from langchain.chains import LLMChain\n",
    "from langchain_openai import OpenAI\n",
    "from langchain.memory import ConversationBufferMemory\n",
    "from langchain.prompts import PromptTemplate\n",
    "import os"
   ]
  },
  {
   "cell_type": "code",
   "execution_count": 17,
   "metadata": {},
   "outputs": [
    {
     "name": "stdout",
     "output_type": "stream",
     "text": [
      "\n",
      "\n",
      "\u001b[1m> Entering new LLMChain chain...\u001b[0m\n",
      "Prompt after formatting:\n",
      "\u001b[32;1m\u001b[1;3mYou are a chatbot having a conversation with a human.\n",
      "\n",
      "Human: hi there, my name is Raghu\n",
      "Chatbot:\u001b[0m\n",
      "\n",
      "\u001b[1m> Finished chain.\u001b[0m\n"
     ]
    },
    {
     "data": {
      "text/plain": [
       "{'human_input': 'hi there, my name is Raghu',\n",
       " 'chat_history': '',\n",
       " 'text': \" Hello Raghu, it's nice to meet you. I am a chatbot designed to have conversations with humans. How can I assist you today?\"}"
      ]
     },
     "execution_count": 17,
     "metadata": {},
     "output_type": "execute_result"
    }
   ],
   "source": [
    "template = \"\"\"You are a chatbot having a conversation with a human.\n",
    "{chat_history}\n",
    "Human: {human_input}\n",
    "Chatbot:\"\"\"\n",
    "\n",
    "prompt = PromptTemplate.from_template(template)\n",
    "memory = ConversationBufferMemory(memory_key=\"chat_history\")\n",
    "llm = OpenAI(api_key=OPENAI_API_KEY, temperature=0)\n",
    "\n",
    "chain = LLMChain(\n",
    "    prompt=prompt,\n",
    "    memory=memory,\n",
    "    llm=llm,\n",
    "    verbose=True,\n",
    ")\n",
    "\n",
    "chain.invoke(\"hi there, my name is Raghu\")"
   ]
  },
  {
   "cell_type": "code",
   "execution_count": 18,
   "metadata": {},
   "outputs": [
    {
     "name": "stdout",
     "output_type": "stream",
     "text": [
      "\n",
      "\n",
      "\u001b[1m> Entering new LLMChain chain...\u001b[0m\n",
      "Prompt after formatting:\n",
      "\u001b[32;1m\u001b[1;3mYou are a chatbot having a conversation with a human.\n",
      "Human: hi there, my name is Raghu\n",
      "AI:  Hello Raghu, it's nice to meet you. I am a chatbot designed to have conversations with humans. How can I assist you today?\n",
      "Human: write a song about me\n",
      "Chatbot:\u001b[0m\n",
      "\n",
      "\u001b[1m> Finished chain.\u001b[0m\n"
     ]
    },
    {
     "data": {
      "text/plain": [
       "{'human_input': 'write a song about me',\n",
       " 'chat_history': \"Human: hi there, my name is Raghu\\nAI:  Hello Raghu, it's nice to meet you. I am a chatbot designed to have conversations with humans. How can I assist you today?\",\n",
       " 'text': \" Sure, Raghu, here's a little song I came up with just for you:\\n\\nVerse 1:\\nRaghu, oh Raghu, with a heart of gold\\nYour smile shines bright, never growing old\\nYou light up the room with your infectious laugh\\nAnd your kindness and warmth, they're hard to surpass\\n\\nChorus:\\nOh Raghu, you're one of a kind\\nA true gem, so hard to find\\nYour presence brings joy, wherever you go\\nYou're a shining star, don't you know?\\n\\nVerse 2:\\nWith your passion and drive, you reach for the stars\\nAnd your determination, it knows no bars\\nYou inspire those around you, to be their best\\nAnd with you by their side, they feel truly blessed\\n\\nChorus:\\nOh Raghu, you're one of a kind\\nA true gem, so hard to find\\nYour presence brings joy, wherever you go\\nYou're a shining star, don't you know?\\n\\nBridge:\\nIn a world full of chaos, you're a calming force\\nAnd your friendship, it's a true gift, of course\\nYou bring light to the darkness, and hope to the despair\\nRaghu, you're a true friend, beyond compare\\n\\nCh\"}"
      ]
     },
     "execution_count": 18,
     "metadata": {},
     "output_type": "execute_result"
    }
   ],
   "source": [
    "chain.invoke(\"write a song about me\")"
   ]
  },
  {
   "cell_type": "code",
   "execution_count": 19,
   "metadata": {},
   "outputs": [
    {
     "name": "stdout",
     "output_type": "stream",
     "text": [
      "\n",
      "\n",
      "\u001b[1m> Entering new LLMChain chain...\u001b[0m\n",
      "Prompt after formatting:\n",
      "\u001b[32;1m\u001b[1;3mYou are a chatbot having a conversation with a human.\n",
      "Human: hi there, my name is Raghu\n",
      "AI:  Hello Raghu, it's nice to meet you. I am a chatbot designed to have conversations with humans. How can I assist you today?\n",
      "Human: write a song about me\n",
      "AI:  Sure, Raghu, here's a little song I came up with just for you:\n",
      "\n",
      "Verse 1:\n",
      "Raghu, oh Raghu, with a heart of gold\n",
      "Your smile shines bright, never growing old\n",
      "You light up the room with your infectious laugh\n",
      "And your kindness and warmth, they're hard to surpass\n",
      "\n",
      "Chorus:\n",
      "Oh Raghu, you're one of a kind\n",
      "A true gem, so hard to find\n",
      "Your presence brings joy, wherever you go\n",
      "You're a shining star, don't you know?\n",
      "\n",
      "Verse 2:\n",
      "With your passion and drive, you reach for the stars\n",
      "And your determination, it knows no bars\n",
      "You inspire those around you, to be their best\n",
      "And with you by their side, they feel truly blessed\n",
      "\n",
      "Chorus:\n",
      "Oh Raghu, you're one of a kind\n",
      "A true gem, so hard to find\n",
      "Your presence brings joy, wherever you go\n",
      "You're a shining star, don't you know?\n",
      "\n",
      "Bridge:\n",
      "In a world full of chaos, you're a calming force\n",
      "And your friendship, it's a true gift, of course\n",
      "You bring light to the darkness, and hope to the despair\n",
      "Raghu, you're a true friend, beyond compare\n",
      "\n",
      "Ch\n",
      "Human: what is the song about?\n",
      "Chatbot:\u001b[0m\n",
      "\n",
      "\u001b[1m> Finished chain.\u001b[0m\n"
     ]
    },
    {
     "data": {
      "text/plain": [
       "{'human_input': 'what is the song about?',\n",
       " 'chat_history': \"Human: hi there, my name is Raghu\\nAI:  Hello Raghu, it's nice to meet you. I am a chatbot designed to have conversations with humans. How can I assist you today?\\nHuman: write a song about me\\nAI:  Sure, Raghu, here's a little song I came up with just for you:\\n\\nVerse 1:\\nRaghu, oh Raghu, with a heart of gold\\nYour smile shines bright, never growing old\\nYou light up the room with your infectious laugh\\nAnd your kindness and warmth, they're hard to surpass\\n\\nChorus:\\nOh Raghu, you're one of a kind\\nA true gem, so hard to find\\nYour presence brings joy, wherever you go\\nYou're a shining star, don't you know?\\n\\nVerse 2:\\nWith your passion and drive, you reach for the stars\\nAnd your determination, it knows no bars\\nYou inspire those around you, to be their best\\nAnd with you by their side, they feel truly blessed\\n\\nChorus:\\nOh Raghu, you're one of a kind\\nA true gem, so hard to find\\nYour presence brings joy, wherever you go\\nYou're a shining star, don't you know?\\n\\nBridge:\\nIn a world full of chaos, you're a calming force\\nAnd your friendship, it's a true gift, of course\\nYou bring light to the darkness, and hope to the despair\\nRaghu, you're a true friend, beyond compare\\n\\nCh\",\n",
       " 'text': ' The song is about you, Raghu. It celebrates your unique qualities and the positive impact you have on those around you.'}"
      ]
     },
     "execution_count": 19,
     "metadata": {},
     "output_type": "execute_result"
    }
   ],
   "source": [
    "chain.invoke(\"what is the song about?\")"
   ]
  },
  {
   "cell_type": "code",
   "execution_count": 20,
   "metadata": {},
   "outputs": [
    {
     "data": {
      "text/plain": [
       "{'chat_history': \"Human: hi there, my name is Raghu\\nAI:  Hello Raghu, it's nice to meet you. I am a chatbot designed to have conversations with humans. How can I assist you today?\\nHuman: write a song about me\\nAI:  Sure, Raghu, here's a little song I came up with just for you:\\n\\nVerse 1:\\nRaghu, oh Raghu, with a heart of gold\\nYour smile shines bright, never growing old\\nYou light up the room with your infectious laugh\\nAnd your kindness and warmth, they're hard to surpass\\n\\nChorus:\\nOh Raghu, you're one of a kind\\nA true gem, so hard to find\\nYour presence brings joy, wherever you go\\nYou're a shining star, don't you know?\\n\\nVerse 2:\\nWith your passion and drive, you reach for the stars\\nAnd your determination, it knows no bars\\nYou inspire those around you, to be their best\\nAnd with you by their side, they feel truly blessed\\n\\nChorus:\\nOh Raghu, you're one of a kind\\nA true gem, so hard to find\\nYour presence brings joy, wherever you go\\nYou're a shining star, don't you know?\\n\\nBridge:\\nIn a world full of chaos, you're a calming force\\nAnd your friendship, it's a true gift, of course\\nYou bring light to the darkness, and hope to the despair\\nRaghu, you're a true friend, beyond compare\\n\\nCh\\nHuman: what is the song about?\\nAI:  The song is about you, Raghu. It celebrates your unique qualities and the positive impact you have on those around you.\"}"
      ]
     },
     "execution_count": 20,
     "metadata": {},
     "output_type": "execute_result"
    }
   ],
   "source": [
    "memory.load_memory_variables({})"
   ]
  },
  {
   "cell_type": "markdown",
   "metadata": {},
   "source": [
    "# 7.2.2 ConversationSummaryMemory"
   ]
  },
  {
   "cell_type": "code",
   "execution_count": null,
   "metadata": {},
   "outputs": [],
   "source": []
  },
  {
   "cell_type": "code",
   "execution_count": null,
   "metadata": {},
   "outputs": [],
   "source": []
  },
  {
   "cell_type": "code",
   "execution_count": null,
   "metadata": {},
   "outputs": [],
   "source": []
  },
  {
   "cell_type": "code",
   "execution_count": null,
   "metadata": {},
   "outputs": [],
   "source": []
  }
 ],
 "metadata": {
  "kernelspec": {
   "display_name": ".venv",
   "language": "python",
   "name": "python3"
  },
  "language_info": {
   "codemirror_mode": {
    "name": "ipython",
    "version": 3
   },
   "file_extension": ".py",
   "mimetype": "text/x-python",
   "name": "python",
   "nbconvert_exporter": "python",
   "pygments_lexer": "ipython3",
   "version": "3.12.3"
  }
 },
 "nbformat": 4,
 "nbformat_minor": 2
}
